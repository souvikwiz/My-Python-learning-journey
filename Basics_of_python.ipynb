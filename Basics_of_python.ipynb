{
  "cells": [
    {
      "cell_type": "markdown",
      "metadata": {
        "id": "view-in-github",
        "colab_type": "text"
      },
      "source": [
        "<a href=\"https://colab.research.google.com/github/souvikwiz/My-Python-learning-journey/blob/main/Basics_of_python.ipynb\" target=\"_parent\"><img src=\"https://colab.research.google.com/assets/colab-badge.svg\" alt=\"Open In Colab\"/></a>"
      ]
    },
    {
      "cell_type": "markdown",
      "id": "d842708d",
      "metadata": {
        "id": "d842708d"
      },
      "source": [
        "### MY Python Basics Learning Joourney"
      ]
    },
    {
      "cell_type": "code",
      "execution_count": null,
      "id": "8723f354",
      "metadata": {
        "id": "8723f354",
        "outputId": "17acdb2c-e1b0-4199-db82-0151d386cb25"
      },
      "outputs": [
        {
          "data": {
            "text/plain": [
              "30.0"
            ]
          },
          "execution_count": 110,
          "metadata": {},
          "output_type": "execute_result"
        }
      ],
      "source": [
        "#BODMAS\n",
        "3*4+(5-2)*(9/3 * (5-3))"
      ]
    },
    {
      "cell_type": "code",
      "execution_count": null,
      "id": "989c06b2",
      "metadata": {
        "id": "989c06b2"
      },
      "outputs": [],
      "source": [
        "# single value 10 added to variable x.\n",
        "# singel string hello added to variable y.\n",
        "x = 10\n",
        "y = \"hello\"\n",
        "print(x,y)"
      ]
    },
    {
      "cell_type": "code",
      "execution_count": null,
      "id": "0d113d92",
      "metadata": {
        "id": "0d113d92"
      },
      "outputs": [],
      "source": [
        "# string data type sample.\n",
        "\n",
        "string_expample = \"this is a sample of string, double qoutes are use ful when text has single qoute with in the text's\"\n"
      ]
    },
    {
      "cell_type": "code",
      "execution_count": null,
      "id": "0154b2c5",
      "metadata": {
        "id": "0154b2c5",
        "outputId": "ec9eca56-65bd-4e3b-fc93-6fddc6444f23"
      },
      "outputs": [
        {
          "data": {
            "text/plain": [
              "6"
            ]
          },
          "execution_count": 12,
          "metadata": {},
          "output_type": "execute_result"
        }
      ],
      "source": [
        "# len function.\n",
        "\n",
        "len(\"souvik\")\n",
        "\n",
        "# len works on the value allotet to the veriable.\n",
        "\n",
        "sample_len = \"sardar\"\n",
        "len(sample_len)"
      ]
    },
    {
      "cell_type": "code",
      "execution_count": null,
      "id": "0763bb2f",
      "metadata": {
        "id": "0763bb2f",
        "outputId": "6a2ad583-de97-4bf8-9b75-115878c05644"
      },
      "outputs": [
        {
          "data": {
            "text/plain": [
              "('h', 'i', 'r')"
            ]
          },
          "execution_count": 20,
          "metadata": {},
          "output_type": "execute_result"
        }
      ],
      "source": [
        "sample_index_number = \"this is for sample index number\"\n",
        "\n",
        "# getting h from \"this\" and i from \"is\" by providing the index number of the value.\n",
        "# postion starts from 0, -1 means the last eliment so r is from number.\n",
        "\n",
        "sample_index_number[1], sample_index_number[5], sample_index_number[-1]"
      ]
    },
    {
      "cell_type": "code",
      "execution_count": null,
      "id": "0140c62f",
      "metadata": {
        "id": "0140c62f",
        "outputId": "f8c0d8d6-a499-430b-fc6a-b6739394addb"
      },
      "outputs": [
        {
          "data": {
            "text/plain": [
              "('this', 'this')"
            ]
          },
          "execution_count": 26,
          "metadata": {},
          "output_type": "execute_result"
        }
      ],
      "source": [
        "# [1:4] index exldues the last value of the veriable, to include the last value +1.\n",
        "# +1 or increasing the value works same.\n",
        "\n",
        "sample_index_number[0:4], sample_index_number[0:3+1]"
      ]
    },
    {
      "cell_type": "code",
      "execution_count": null,
      "id": "1151ee10",
      "metadata": {
        "id": "1151ee10",
        "outputId": "c0a3e94e-27e4-4b5f-8849-024d397dfffc"
      },
      "outputs": [
        {
          "data": {
            "text/plain": [
              "('for sample index number', 'this is for')"
            ]
          },
          "execution_count": 31,
          "metadata": {},
          "output_type": "execute_result"
        }
      ],
      "source": [
        "# using fix index number with len function to get all from given start index number.\n",
        "# 0: will start from start eliment to given last index.\n",
        "\n",
        "sample_index_number[8: len(sample_index_number)], sample_index_number[0:11]"
      ]
    },
    {
      "cell_type": "code",
      "execution_count": null,
      "id": "401a2d32",
      "metadata": {
        "scrolled": false,
        "id": "401a2d32",
        "outputId": "4b1343d2-a135-4eca-ee6f-07935a3abd9c"
      },
      "outputs": [
        {
          "name": "stdout",
          "output_type": "stream",
          "text": [
            "index\n"
          ]
        }
      ],
      "source": [
        "# slicing using index numbers\n",
        "\n",
        "slicing_example = \"sample for slicing with indexing\"\n",
        "\n",
        "# to get \"index\" from indexing in the entire sentence. \n",
        "\n",
        "sliced = slicing_example[-8:-3]\n",
        "print(sliced)"
      ]
    },
    {
      "cell_type": "code",
      "execution_count": null,
      "id": "15608268",
      "metadata": {
        "id": "15608268",
        "outputId": "b75c7691-7f8c-4327-cde3-618e5836d464"
      },
      "outputs": [
        {
          "data": {
            "text/plain": [
              "True"
            ]
          },
          "execution_count": 55,
          "metadata": {},
          "output_type": "execute_result"
        }
      ],
      "source": [
        "# to check some eliment is persent of not. using \"in\" function.\n",
        "\n",
        "\"sample\" in slicing_example"
      ]
    },
    {
      "cell_type": "code",
      "execution_count": null,
      "id": "3dc466a1",
      "metadata": {
        "id": "3dc466a1",
        "outputId": "a1f34cc7-2ac8-4702-c4d9-2e44a12486a4"
      },
      "outputs": [
        {
          "data": {
            "text/plain": [
              "False"
            ]
          },
          "execution_count": 56,
          "metadata": {},
          "output_type": "execute_result"
        }
      ],
      "source": [
        "# to check some eliment is persent of not, using \"not\" function.\n",
        "\n",
        "\"for\" not in slicing_example"
      ]
    },
    {
      "cell_type": "code",
      "execution_count": null,
      "id": "7d0508c0",
      "metadata": {
        "id": "7d0508c0",
        "outputId": "d8d0199a-cab6-4580-acdb-0b1f62037665"
      },
      "outputs": [
        {
          "data": {
            "text/plain": [
              "('SOUVIK SARDAR', 'Souvik Sardar')"
            ]
          },
          "execution_count": 59,
          "metadata": {},
          "output_type": "execute_result"
        }
      ],
      "source": [
        "# methods are funtions associated with a data type in python.\n",
        "# all string methods are can be get by dir(str) code.\n",
        "# to get help on string data type code is help(str)\n",
        "\n",
        "methods_example = \"souvik sardar\"\n",
        "\n",
        "methods_example.upper(), methods_example.title()\n"
      ]
    },
    {
      "cell_type": "code",
      "execution_count": null,
      "id": "081d310b",
      "metadata": {
        "id": "081d310b",
        "outputId": "26a00bdb-f789-4ed4-dc92-ddefa13c05cf"
      },
      "outputs": [
        {
          "name": "stdout",
          "output_type": "stream",
          "text": [
            "0\n",
            "1\n",
            "2\n",
            "3\n",
            "4\n",
            "5\n",
            "6\n",
            "7\n",
            "8\n",
            "9\n"
          ]
        }
      ],
      "source": [
        "# putting range of values to a single veriable,\n",
        "# range function exclues the last value.\n",
        "\n",
        "for raw_data in range(10):\n",
        "    print(raw_data)"
      ]
    },
    {
      "cell_type": "code",
      "execution_count": null,
      "id": "1dce0f8f",
      "metadata": {
        "id": "1dce0f8f",
        "outputId": "a41a403f-d6bd-4beb-ebab-bc94abd8af67"
      },
      "outputs": [
        {
          "data": {
            "text/plain": [
              "('   sample for strip tool',\n",
              " 'sample for strip tool',\n",
              " 'sample for ! strip tool')"
            ]
          },
          "execution_count": 88,
          "metadata": {},
          "output_type": "execute_result"
        }
      ],
      "source": [
        "# data cleaning using strip tool to clean extra spaces.\n",
        "\n",
        "sample_strip = \"   sample for strip tool    \"\n",
        "sample_strip2 = \"sample for ! strip tool!\"\n",
        "\n",
        "# strip(!) inside eliment exclues only from first and last from the whole string value.\n",
        "# strip to trim both side, rstrip is for right strip. lstrip is left strip.\n",
        "\n",
        "sample_strip.rstrip(), sample_strip.strip(), sample_strip2.strip(\"!\")"
      ]
    },
    {
      "cell_type": "code",
      "execution_count": null,
      "id": "55b681c7",
      "metadata": {
        "id": "55b681c7",
        "outputId": "6ba18112-a0ae-49e9-e78e-c2c0b9eea252"
      },
      "outputs": [
        {
          "data": {
            "text/plain": [
              "'sample for <replaced_str> strip tool<replaced_str>'"
            ]
          },
          "execution_count": 87,
          "metadata": {},
          "output_type": "execute_result"
        }
      ],
      "source": [
        "# data cleaning using replace method.\n",
        "\n",
        "sample_strip2.replace(\"!\",\"<replaced_str>\")\n"
      ]
    },
    {
      "cell_type": "code",
      "execution_count": null,
      "id": "507883de",
      "metadata": {
        "id": "507883de",
        "outputId": "981fd608-3069-4e0a-d025-817062183ef4"
      },
      "outputs": [
        {
          "data": {
            "text/plain": [
              "'samp<replaced> for ! strip tool!'"
            ]
          },
          "execution_count": 89,
          "metadata": {},
          "output_type": "execute_result"
        }
      ],
      "source": [
        "# replace works on the first similar eliment.\n",
        "\n",
        "sample_strip2.replace(\"le\",\"<replaced>\")"
      ]
    },
    {
      "cell_type": "code",
      "execution_count": null,
      "id": "32296f4f",
      "metadata": {
        "id": "32296f4f",
        "outputId": "2e81bb29-81ac-402d-be65-8115af3bd841"
      },
      "outputs": [
        {
          "data": {
            "text/plain": [
              "(7, 11)"
            ]
          },
          "execution_count": 82,
          "metadata": {},
          "output_type": "execute_result"
        }
      ],
      "source": [
        "# to get the index number of particular value of variable.\n",
        "# using find method. returns the first occurrence.\n",
        "\n",
        "sample_find = \"sample for find\"\n",
        "sample_find.find(\"f\") , sample_find.find(\"find\")\n",
        "\n",
        "# for \"find\" it refers to the starting index."
      ]
    },
    {
      "cell_type": "code",
      "execution_count": null,
      "id": "94dc332d",
      "metadata": {
        "id": "94dc332d",
        "outputId": "d87ac437-7de7-4adb-80c4-ecb6be7f08a1"
      },
      "outputs": [
        {
          "data": {
            "text/plain": [
              "2"
            ]
          },
          "execution_count": 84,
          "metadata": {},
          "output_type": "execute_result"
        }
      ],
      "source": [
        "# find method eroor to avoid \n",
        "\n",
        "error_find_sample = \"this is me\"\n",
        "error_find_sample.find(\"is\")\n",
        "\n",
        "# here \"is\" index refers to the \"is\" from \"this\"."
      ]
    },
    {
      "cell_type": "code",
      "execution_count": null,
      "id": "f615c2f9",
      "metadata": {
        "id": "f615c2f9"
      },
      "outputs": [],
      "source": [
        "# string --- immutable-- \"\"\n",
        "# numbers -- immutable\n",
        "# list ----- mutable --- []\n",
        "# tuple ---- immutable - () *for one element (<data>,)\n",
        "# dict ----- mutable --- {}"
      ]
    },
    {
      "cell_type": "markdown",
      "id": "215bbe56",
      "metadata": {
        "id": "215bbe56"
      },
      "source": [
        "# list data type"
      ]
    },
    {
      "cell_type": "code",
      "execution_count": null,
      "id": "81a2fa80",
      "metadata": {
        "id": "81a2fa80",
        "outputId": "640d5637-5f69-4389-8383-0b2fe07e4ae9"
      },
      "outputs": [
        {
          "data": {
            "text/plain": [
              "('souvik', ['souvik', 'soumik', 'annesha'])"
            ]
          },
          "execution_count": 94,
          "metadata": {},
          "output_type": "execute_result"
        }
      ],
      "source": [
        "# list data type, 0 based indexing. can contain multiple data type.\n",
        "\n",
        "name_list = [\"souvik\", \"soumik\", \"annesha\", \"promila\"]\n",
        "name_list[0], name_list[0:3]"
      ]
    },
    {
      "cell_type": "code",
      "execution_count": null,
      "id": "fa52e64c",
      "metadata": {
        "id": "fa52e64c",
        "outputId": "f2431a26-bb02-4b38-efff-e34595eb3030"
      },
      "outputs": [
        {
          "data": {
            "text/plain": [
              "'s'"
            ]
          },
          "execution_count": 96,
          "metadata": {},
          "output_type": "execute_result"
        }
      ],
      "source": [
        "# getting the vale of a list value.\n",
        "name_list[0][0]"
      ]
    },
    {
      "cell_type": "code",
      "execution_count": null,
      "id": "849e5d46",
      "metadata": {
        "id": "849e5d46",
        "outputId": "85149e72-3475-4dee-9462-3bfe9690d6af"
      },
      "outputs": [
        {
          "name": "stdout",
          "output_type": "stream",
          "text": [
            "['souvik', 'soumik_sarkar', 'annesha', 'promila']\n"
          ]
        }
      ],
      "source": [
        "# replacing value of a list.\n",
        "\n",
        "name_list[1] = \"soumik_sarkar\"\n",
        "print(name_list)\n"
      ]
    },
    {
      "cell_type": "code",
      "execution_count": null,
      "id": "60afc613",
      "metadata": {
        "id": "60afc613",
        "outputId": "78333a77-756e-401d-fc8b-942a24b18fcd"
      },
      "outputs": [
        {
          "data": {
            "text/plain": [
              "['souvik', 'soumik_sarkar', 'annesha', 'promila', 'pushpal', 'pushpal']"
            ]
          },
          "execution_count": 101,
          "metadata": {},
          "output_type": "execute_result"
        }
      ],
      "source": [
        "# adding new eliment to a list.\n",
        "# using append methos.\n",
        "\n",
        "name_list.append(\"pushpal\")\n",
        "name_list"
      ]
    },
    {
      "cell_type": "code",
      "execution_count": null,
      "id": "765ceecc",
      "metadata": {
        "id": "765ceecc",
        "outputId": "be77700f-ab63-4095-e16d-de96a61340fd"
      },
      "outputs": [
        {
          "data": {
            "text/plain": [
              "[1, 2, 3, 4, 5, ['a', 'b', 'c', 'd', 'e']]"
            ]
          },
          "execution_count": 107,
          "metadata": {},
          "output_type": "execute_result"
        }
      ],
      "source": [
        "# combining two list using append method. \n",
        "\n",
        "sample_list_for_append = [1,2,3,4,5]\n",
        "sample_list2_for_append = [\"a\",\"b\",\"c\",\"d\",\"e\"]\n",
        "\n",
        "sample_list_for_append.append(sample_list2_for_append)\n",
        "sample_list_for_append\n",
        "\n",
        "# problem with append is it creates a list with in a list.\n",
        "# second list acts as a separate list."
      ]
    },
    {
      "cell_type": "code",
      "execution_count": null,
      "id": "bc2b3215",
      "metadata": {
        "id": "bc2b3215",
        "outputId": "a338ad77-228d-4efb-f30d-087916269175"
      },
      "outputs": [
        {
          "data": {
            "text/plain": [
              "[1, 2, 3, 4, 5, 'a', 'b', 'c', 'd', 'e']"
            ]
          },
          "execution_count": 109,
          "metadata": {},
          "output_type": "execute_result"
        }
      ],
      "source": [
        "# combining two list using extend method. \n",
        "\n",
        "sample_list_for_extend = [1,2,3,4,5]\n",
        "sample_list2_for_extend = [\"a\",\"b\",\"c\",\"d\",\"e\"]\n",
        "\n",
        "sample_list_for_extend.extend(sample_list2_for_extend)\n",
        "sample_list_for_extend\n",
        "\n",
        "# extend merge two separte list to a single list.\n",
        "# append & extend both add the second list values from the last eliment of first list."
      ]
    },
    {
      "cell_type": "code",
      "execution_count": null,
      "id": "1b82e123",
      "metadata": {
        "id": "1b82e123",
        "outputId": "b17216fd-e739-4b45-e577-1db5280fd06c"
      },
      "outputs": [
        {
          "data": {
            "text/plain": [
              "['debanjon', 'kiran', 'koushik', 'sachitha', 'saumik']"
            ]
          },
          "execution_count": 114,
          "metadata": {},
          "output_type": "execute_result"
        }
      ],
      "source": [
        "# sorting list.\n",
        "\n",
        "classmates = [\"debanjon\", \"koushik\", \"saumik\", \"kiran\",\"sachitha\"]\n",
        "classmates.sort()\n",
        "classmates"
      ]
    },
    {
      "cell_type": "code",
      "execution_count": null,
      "id": "5b5bb105",
      "metadata": {
        "id": "5b5bb105"
      },
      "outputs": [],
      "source": [
        "# creating list with in list, inner 2nd list is an eliment to the first outer list.\n",
        "\n",
        "nested_list_sample = [1,[\"a\",\"b\",\"c\"],\"sample_nested_list\"]\n",
        "nested_list_sample2 = [2,[\"x\",[\"aa\",\"bb\"],\"y\"],\"sample_nested_list\"]"
      ]
    },
    {
      "cell_type": "code",
      "execution_count": null,
      "id": "79a71f10",
      "metadata": {
        "id": "79a71f10",
        "outputId": "4975b810-af7c-4fe2-8fce-24e94d2ed9a6"
      },
      "outputs": [
        {
          "data": {
            "text/plain": [
              "list"
            ]
          },
          "execution_count": 120,
          "metadata": {},
          "output_type": "execute_result"
        }
      ],
      "source": [
        "#type is used to check the data type.\n",
        "type(nested_list_sample[1])\n"
      ]
    },
    {
      "cell_type": "code",
      "execution_count": null,
      "id": "af2887c8",
      "metadata": {
        "id": "af2887c8",
        "outputId": "e3e5a280-077f-4db7-a9d2-016a58e93835"
      },
      "outputs": [
        {
          "data": {
            "text/plain": [
              "'bb'"
            ]
          },
          "execution_count": 126,
          "metadata": {},
          "output_type": "execute_result"
        }
      ],
      "source": [
        "# fetching \"bb\" from triple layer neasted list.\n",
        "\n",
        "nested_list_sample2[1][1][1]"
      ]
    },
    {
      "cell_type": "code",
      "execution_count": null,
      "id": "6374460e",
      "metadata": {
        "id": "6374460e",
        "outputId": "07f1c5bf-6c48-46dc-97ac-651c2707fee4"
      },
      "outputs": [
        {
          "data": {
            "text/plain": [
              "[1,\n",
              " ['a', 'b', 'c'],\n",
              " 'sample_nested_list',\n",
              " '<new data entry>',\n",
              " '<new data entry>',\n",
              " '<new data entry>']"
            ]
          },
          "execution_count": 130,
          "metadata": {},
          "output_type": "execute_result"
        }
      ],
      "source": [
        "# adding single elemnet to a list using extend.\n",
        "nested_list_sample.extend([\"<new data entry>\"])\n",
        "nested_list_sample"
      ]
    },
    {
      "cell_type": "code",
      "execution_count": null,
      "id": "ac7e3520",
      "metadata": {
        "id": "ac7e3520",
        "outputId": "00184324-38df-43fe-a9bc-f278a8a0da04"
      },
      "outputs": [
        {
          "data": {
            "text/plain": [
              "[2, 3, 4, 5]"
            ]
          },
          "execution_count": 132,
          "metadata": {},
          "output_type": "execute_result"
        }
      ],
      "source": [
        "# list slicing, to get 2-5\n",
        "\n",
        "sample_list_slicing = [1,2,3,4,5,6,7,8,9]\n",
        "sample_list_slicing[1:5]"
      ]
    },
    {
      "cell_type": "code",
      "execution_count": null,
      "id": "db9528b5",
      "metadata": {
        "id": "db9528b5",
        "outputId": "f0c45b3f-1d29-4a75-f6b9-a1f73327c89a"
      },
      "outputs": [
        {
          "data": {
            "text/plain": [
              "(9, 0)"
            ]
          },
          "execution_count": 135,
          "metadata": {},
          "output_type": "execute_result"
        }
      ],
      "source": [
        "# Aggregations on list\n",
        "\n",
        "sample_agg = [0,1,2,3,4,5,6,7,8,9]\n",
        "max(sample_agg), min(sample_agg)"
      ]
    },
    {
      "cell_type": "code",
      "execution_count": null,
      "id": "3ab1a694",
      "metadata": {
        "id": "3ab1a694",
        "outputId": "e5a0bcef-fa97-427b-b76a-58a25c5af398"
      },
      "outputs": [
        {
          "data": {
            "text/plain": [
              "('AAAA', 'A')"
            ]
          },
          "execution_count": 138,
          "metadata": {},
          "output_type": "execute_result"
        }
      ],
      "source": [
        "# find max, min of a string by the lenth of a string in a list.\n",
        "# key=len is counting the characters or laters.\n",
        "\n",
        "sample_max_str = [\"AAAA\",\"AA\",\"A\",\"AAA\"]\n",
        "max(sample_max_str, key=len), min(sample_max_str, key=len)\n"
      ]
    },
    {
      "cell_type": "code",
      "execution_count": null,
      "id": "765273ed",
      "metadata": {
        "id": "765273ed",
        "outputId": "49b8fb44-455e-42c3-e8ae-5519e3bbea43"
      },
      "outputs": [
        {
          "data": {
            "text/plain": [
              "['s', 'o', 'u', 'v', 'i', 'k']"
            ]
          },
          "execution_count": 140,
          "metadata": {},
          "output_type": "execute_result"
        }
      ],
      "source": [
        "# converting string to list\n",
        "list(\"souvik\")"
      ]
    },
    {
      "cell_type": "code",
      "execution_count": null,
      "id": "513141c7",
      "metadata": {
        "id": "513141c7",
        "outputId": "c4775fca-5b9b-4468-d6ab-8d03cff42b3f"
      },
      "outputs": [
        {
          "data": {
            "text/plain": [
              "['s', 'a', 'r', 'd', 'a', 'r']"
            ]
          },
          "execution_count": 142,
          "metadata": {},
          "output_type": "execute_result"
        }
      ],
      "source": [
        "sample_str_to_convert = \"sardar\"\n",
        "list(sample_str_to_convert)"
      ]
    },
    {
      "cell_type": "markdown",
      "id": "588b3cfd",
      "metadata": {
        "id": "588b3cfd"
      },
      "source": [
        "# Tuple data type"
      ]
    },
    {
      "cell_type": "code",
      "execution_count": null,
      "id": "f12b6f80",
      "metadata": {
        "id": "f12b6f80",
        "outputId": "50cd68fc-edad-4f1d-fec7-a3f57b89bfc1"
      },
      "outputs": [
        {
          "data": {
            "text/plain": [
              "(1,)"
            ]
          },
          "execution_count": 3,
          "metadata": {},
          "output_type": "execute_result"
        }
      ],
      "source": [
        "# tuple same as list but unmutable\n",
        "single_element_tuple = (1,)\n",
        "single_element_tuple"
      ]
    },
    {
      "cell_type": "code",
      "execution_count": null,
      "id": "a9fe97e5",
      "metadata": {
        "id": "a9fe97e5",
        "outputId": "a04df2e6-ce1a-4caf-d990-81be9663a203"
      },
      "outputs": [
        {
          "data": {
            "text/plain": [
              "str"
            ]
          },
          "execution_count": 5,
          "metadata": {},
          "output_type": "execute_result"
        }
      ],
      "source": []
    },
    {
      "cell_type": "code",
      "execution_count": null,
      "id": "bbb08aaa",
      "metadata": {
        "id": "bbb08aaa",
        "outputId": "d0a107a3-93f6-4837-aac3-5e9af63d0b3f"
      },
      "outputs": [
        {
          "data": {
            "text/plain": [
              "tuple"
            ]
          },
          "execution_count": 5,
          "metadata": {},
          "output_type": "execute_result"
        }
      ],
      "source": [
        "sample_tuple = (0,\"hello\")\n",
        "type(sample_tuple)"
      ]
    },
    {
      "cell_type": "code",
      "execution_count": null,
      "id": "2cb1328b",
      "metadata": {
        "id": "2cb1328b"
      },
      "outputs": [],
      "source": [
        "# type casting \n",
        "\n",
        "## implicit when python automataclly indentifies data type.\n",
        "# int + float = float, exp: 1+1.5 = 2.5\n",
        "## explicit when python dont get the data type. \n",
        "# string + int, exp: \"10\"+10 = error "
      ]
    },
    {
      "cell_type": "code",
      "execution_count": null,
      "id": "cd7d3556",
      "metadata": {
        "id": "cd7d3556",
        "outputId": "373e102b-04f8-45b1-e966-87061def1962"
      },
      "outputs": [
        {
          "data": {
            "text/plain": [
              "20"
            ]
          },
          "execution_count": 7,
          "metadata": {},
          "output_type": "execute_result"
        }
      ],
      "source": [
        "# changing data type, explicit type casting.\n",
        "string_to_convert = \"10\"\n",
        "sample_int = 10\n",
        "sum_of_samples = int(string_to_convert) + sample_int\n",
        "sum_of_samples"
      ]
    },
    {
      "cell_type": "code",
      "execution_count": null,
      "id": "700c57bd",
      "metadata": {
        "id": "700c57bd"
      },
      "outputs": [],
      "source": [
        "##polymorphism"
      ]
    },
    {
      "cell_type": "code",
      "execution_count": null,
      "id": "a1376fbe",
      "metadata": {
        "id": "a1376fbe"
      },
      "outputs": [],
      "source": [
        "# polymorphism means multiple forms\n",
        "## + operator can do diffarent things depending on the data type.\n",
        "# for int sum, for string concatination, for list join."
      ]
    },
    {
      "cell_type": "code",
      "execution_count": null,
      "id": "e8bacf71",
      "metadata": {
        "id": "e8bacf71",
        "outputId": "ad7da0b7-fda1-4b1b-9601-1d96532df5a9"
      },
      "outputs": [
        {
          "data": {
            "text/plain": [
              "'souvik sardar'"
            ]
          },
          "execution_count": 16,
          "metadata": {},
          "output_type": "execute_result"
        }
      ],
      "source": [
        "#concat strings using + operator\n",
        "first_name = \"souvik\"\n",
        "Last_name = \"sardar\"\n",
        "first_name + \" \" + Last_name"
      ]
    },
    {
      "cell_type": "code",
      "execution_count": null,
      "id": "057fc807",
      "metadata": {
        "id": "057fc807",
        "outputId": "454db68c-1c57-48c7-a888-31f9e041d4cb"
      },
      "outputs": [
        {
          "data": {
            "text/plain": [
              "[1, 2, 3, 'x', 'y']"
            ]
          },
          "execution_count": 17,
          "metadata": {},
          "output_type": "execute_result"
        }
      ],
      "source": [
        "#joining list by + operator \n",
        "list_to_join = [1,2,3] \n",
        "list_to_join2 = [\"x\",\"y\"]\n",
        "\n",
        "list_to_join + list_to_join2"
      ]
    },
    {
      "cell_type": "code",
      "execution_count": null,
      "id": "ecd1904d",
      "metadata": {
        "id": "ecd1904d",
        "outputId": "77931512-2c8d-4e19-8c49-80973d355a3a"
      },
      "outputs": [
        {
          "data": {
            "text/plain": [
              "[1, 2, 3, 'x', 'y', ['a', 'b']]"
            ]
          },
          "execution_count": 18,
          "metadata": {},
          "output_type": "execute_result"
        }
      ],
      "source": [
        " [1,2,3] + [\"x\",\"y\"] + [[\"a\",\"b\"]]"
      ]
    },
    {
      "cell_type": "code",
      "execution_count": null,
      "id": "224b84bf",
      "metadata": {
        "id": "224b84bf",
        "outputId": "4a48c8e8-a139-4e04-a66e-a757ad6250dd"
      },
      "outputs": [
        {
          "data": {
            "text/plain": [
              "['s', ['o', ['u']], 1, 2, 'b', ['a']]"
            ]
          },
          "execution_count": 19,
          "metadata": {},
          "output_type": "execute_result"
        }
      ],
      "source": [
        "[\"s\",[\"o\",[\"u\"]]] + [1,2] + [\"b\",[\"a\"]]"
      ]
    },
    {
      "cell_type": "code",
      "execution_count": null,
      "id": "22c3513e",
      "metadata": {
        "id": "22c3513e"
      },
      "outputs": [],
      "source": [
        "#Function \n",
        "# function is a template to do something. \n",
        "# def <name of the function> (parameters and separated by \",\")\n",
        "# \":\" what to do with the parameters\n",
        "# <body>\n",
        "# return will give out put\n",
        "\n",
        "def get_sum_of_two_numbers(num_1, num_2):\n",
        "    result = num_1 + num_2\n",
        "    return result"
      ]
    },
    {
      "cell_type": "code",
      "execution_count": null,
      "id": "721e56e2",
      "metadata": {
        "id": "721e56e2",
        "outputId": "d7e2724d-22cd-43ce-ae9d-bd1c8b7986e5"
      },
      "outputs": [
        {
          "data": {
            "text/plain": [
              "3"
            ]
          },
          "execution_count": 26,
          "metadata": {},
          "output_type": "execute_result"
        }
      ],
      "source": [
        "#calling a function\n",
        "# num_1 is called arguments which holds the place.\n",
        "\n",
        "get_sum_of_two_numbers(num_1 = 1, num_2 = 2)"
      ]
    },
    {
      "cell_type": "code",
      "execution_count": null,
      "id": "1cacb2cc",
      "metadata": {
        "id": "1cacb2cc",
        "outputId": "91199360-cf29-4315-cdbd-c223e16b3d21"
      },
      "outputs": [
        {
          "data": {
            "text/plain": [
              "3"
            ]
          },
          "execution_count": 27,
          "metadata": {},
          "output_type": "execute_result"
        }
      ],
      "source": [
        "sum_of_two_num = get_sum_of_two_numbers(num_1 = 1, num_2 = 2)\n",
        "sum_of_two_num"
      ]
    },
    {
      "cell_type": "code",
      "execution_count": null,
      "id": "468f9760",
      "metadata": {
        "id": "468f9760"
      },
      "outputs": [],
      "source": [
        "# raw data for function understaing \n",
        "name_1 = \"souvik\"\n",
        "name_2 = \"sardar\"\n",
        "name_3 = \"soumi\""
      ]
    },
    {
      "cell_type": "code",
      "execution_count": null,
      "id": "1d21e46d",
      "metadata": {
        "id": "1d21e46d",
        "outputId": "6cd3bf81-2517-4a5b-efed-8e7ae4f0b675"
      },
      "outputs": [
        {
          "data": {
            "text/plain": [
              "'SOUVIK::::'"
            ]
          },
          "execution_count": 33,
          "metadata": {},
          "output_type": "execute_result"
        }
      ],
      "source": [
        "# slow method one by one\n",
        "name_1 = name_1.upper()\n",
        "name_1 = name_1 + \"::\"\n",
        "name_1"
      ]
    },
    {
      "cell_type": "code",
      "execution_count": null,
      "id": "13ffc886",
      "metadata": {
        "id": "13ffc886"
      },
      "outputs": [],
      "source": [
        "# same with using functions at ones\n",
        "def clean_name (first_name):\n",
        "    first_name_upper = first_name.upper() \n",
        "    first_name_upper_with_colons = first_name_upper + \"::\"\n",
        "    return first_name_upper_with_colons"
      ]
    },
    {
      "cell_type": "code",
      "execution_count": null,
      "id": "7bb2e7d0",
      "metadata": {
        "id": "7bb2e7d0",
        "outputId": "d27bba73-6dda-4166-cdab-b81e6ea2b058"
      },
      "outputs": [
        {
          "name": "stdout",
          "output_type": "stream",
          "text": [
            "SOUVIK::::::\n",
            "SARDAR::\n",
            "SOUMI::\n"
          ]
        }
      ],
      "source": [
        "print(clean_name(first_name = name_1))\n",
        "print(clean_name(first_name = name_2))\n",
        "print(clean_name(first_name = name_3))"
      ]
    },
    {
      "cell_type": "code",
      "execution_count": null,
      "id": "45762c75",
      "metadata": {
        "id": "45762c75"
      },
      "outputs": [],
      "source": [
        "# function name should be descriptive.\n",
        "# to debug use print in every staement \n",
        "# like : print(result = first_name.upper)\n",
        "\n",
        "def full_name_upper_with_colons (first_name, last_name):\n",
        "    result = first_name.upper() + \":::\" + last_name\n",
        "    return result"
      ]
    },
    {
      "cell_type": "code",
      "execution_count": null,
      "id": "4470e56f",
      "metadata": {
        "id": "4470e56f",
        "outputId": "1c0b2b5e-1e03-4eed-e891-b3d60dcc74a8"
      },
      "outputs": [
        {
          "data": {
            "text/plain": [
              "'SOUVIK:::sardar'"
            ]
          },
          "execution_count": 58,
          "metadata": {},
          "output_type": "execute_result"
        }
      ],
      "source": [
        "full_name_upper_with_colons(first_name = \"souvik\", last_name = \"sardar\")"
      ]
    },
    {
      "cell_type": "code",
      "execution_count": null,
      "id": "6281975c",
      "metadata": {
        "id": "6281975c"
      },
      "outputs": [],
      "source": [
        "# methods are .upper .lower etc."
      ]
    },
    {
      "cell_type": "code",
      "execution_count": null,
      "id": "2f75eda9",
      "metadata": {
        "id": "2f75eda9"
      },
      "outputs": [],
      "source": [
        "##list comprehension class 30th "
      ]
    },
    {
      "cell_type": "code",
      "execution_count": null,
      "id": "4ad9481f",
      "metadata": {
        "id": "4ad9481f",
        "outputId": "e93f57df-143d-43f8-daac-a5ba985267f4"
      },
      "outputs": [
        {
          "data": {
            "text/plain": [
              "['R', 'e', 'l', 'e', 'v', 'e', 'l']"
            ]
          },
          "execution_count": 4,
          "metadata": {},
          "output_type": "execute_result"
        }
      ],
      "source": [
        "sample_strings = \"Relevel\"\n",
        "list(sample_strings)\n",
        "\n",
        "# not a desired output."
      ]
    },
    {
      "cell_type": "code",
      "execution_count": null,
      "id": "80247e82",
      "metadata": {
        "id": "80247e82",
        "outputId": "94a3a761-e31f-4421-9b14-98dac58c8efe"
      },
      "outputs": [
        {
          "data": {
            "text/plain": [
              "['Relevel', 'is', 'awesome']"
            ]
          },
          "execution_count": 11,
          "metadata": {},
          "output_type": "execute_result"
        }
      ],
      "source": [
        "# .split() methods of string \n",
        "# spliting strings and converting them to list.\n",
        "\n",
        "string_sample_split = \"Relevel is awesome\"\n",
        "string_sample_split.split()"
      ]
    },
    {
      "cell_type": "markdown",
      "id": "f28261d3",
      "metadata": {
        "id": "f28261d3"
      },
      "source": [
        "# join"
      ]
    },
    {
      "cell_type": "code",
      "execution_count": null,
      "id": "1e6a3384",
      "metadata": {
        "id": "1e6a3384",
        "outputId": "b8b08139-e538-4cbc-ef3f-01d856f29122"
      },
      "outputs": [
        {
          "data": {
            "text/plain": [
              "'Relevel is awesome'"
            ]
          },
          "execution_count": 9,
          "metadata": {},
          "output_type": "execute_result"
        }
      ],
      "source": [
        "\"\".join(string_sample_split)\n",
        "#getting back the string type from list. "
      ]
    },
    {
      "cell_type": "code",
      "execution_count": null,
      "id": "8d7db870",
      "metadata": {
        "id": "8d7db870",
        "outputId": "d4037ffb-374c-4615-f7f8-a04e319510f0"
      },
      "outputs": [
        {
          "data": {
            "text/plain": [
              "['Ufaber', 'is', 'good']"
            ]
          },
          "execution_count": 16,
          "metadata": {},
          "output_type": "execute_result"
        }
      ],
      "source": [
        "sample_slipt_to_join = \"Ufaber is good\"\n",
        "# have to put veriable to save the code to join correctly.\n",
        "split2join = sample_slipt_to_join.split()\n",
        "split2join"
      ]
    },
    {
      "cell_type": "code",
      "execution_count": null,
      "id": "63a3c6e9",
      "metadata": {
        "id": "63a3c6e9",
        "outputId": "e2e4cea4-170f-41d3-9091-4207e09dfb1f"
      },
      "outputs": [
        {
          "data": {
            "text/plain": [
              "'Ufaber_is_good'"
            ]
          },
          "execution_count": 17,
          "metadata": {},
          "output_type": "execute_result"
        }
      ],
      "source": [
        "\"_\".join(split2join)"
      ]
    },
    {
      "cell_type": "markdown",
      "id": "b9df17cb",
      "metadata": {
        "id": "b9df17cb"
      },
      "source": [
        "# Dictionary"
      ]
    },
    {
      "cell_type": "code",
      "execution_count": null,
      "id": "8a92990e",
      "metadata": {
        "id": "8a92990e"
      },
      "outputs": [],
      "source": [
        "dic_to_separate_later = {\"index_1\":[1,2,3,3,4],\n",
        "                         \"index_2\":[9,8,7,65,3]\n",
        "                        }\n"
      ]
    },
    {
      "cell_type": "code",
      "execution_count": null,
      "id": "55028f3a",
      "metadata": {
        "id": "55028f3a",
        "outputId": "66a76c28-3550-4fa8-f34b-b7932c972981"
      },
      "outputs": [
        {
          "data": {
            "text/plain": [
              "dict_keys(['index_1', 'index_2'])"
            ]
          },
          "execution_count": 20,
          "metadata": {},
          "output_type": "execute_result"
        }
      ],
      "source": [
        "##key_words\n",
        "dic_to_separate_later.keys()"
      ]
    },
    {
      "cell_type": "code",
      "execution_count": null,
      "id": "92786af0",
      "metadata": {
        "id": "92786af0",
        "outputId": "1701cdf7-2f3e-404a-d694-7ed886873fd2"
      },
      "outputs": [
        {
          "data": {
            "text/plain": [
              "dict_values([[1, 2, 3, 3, 4], [9, 8, 7, 65, 3]])"
            ]
          },
          "execution_count": 21,
          "metadata": {},
          "output_type": "execute_result"
        }
      ],
      "source": [
        "##values\n",
        "dic_to_separate_later.values()"
      ]
    },
    {
      "cell_type": "code",
      "execution_count": null,
      "id": "8504493a",
      "metadata": {
        "id": "8504493a",
        "outputId": "494e47db-de7e-406f-a7b1-eaa6dbca635a"
      },
      "outputs": [
        {
          "data": {
            "text/plain": [
              "dict_items([('index_1', [1, 2, 3, 3, 4]), ('index_2', [9, 8, 7, 65, 3])])"
            ]
          },
          "execution_count": 24,
          "metadata": {},
          "output_type": "execute_result"
        }
      ],
      "source": [
        "## All items in dict.\n",
        "dic_to_separate_later.items()"
      ]
    },
    {
      "cell_type": "code",
      "execution_count": null,
      "id": "123d638f",
      "metadata": {
        "id": "123d638f"
      },
      "outputs": [],
      "source": []
    },
    {
      "cell_type": "markdown",
      "id": "759126fd",
      "metadata": {
        "id": "759126fd"
      },
      "source": [
        "# set\n",
        "\n",
        "\n"
      ]
    },
    {
      "cell_type": "code",
      "execution_count": null,
      "id": "51e20d62",
      "metadata": {
        "id": "51e20d62",
        "outputId": "dfe81539-bdbc-433d-d0c8-631ce403e623"
      },
      "outputs": [
        {
          "data": {
            "text/plain": [
              "{1, 2, 3, 4, 5, 6, 7}"
            ]
          },
          "execution_count": 11,
          "metadata": {},
          "output_type": "execute_result"
        }
      ],
      "source": [
        "set_example = {1,2,3,4,5,6,7}\n",
        "set_example"
      ]
    },
    {
      "cell_type": "code",
      "execution_count": null,
      "id": "57ae76cf",
      "metadata": {
        "id": "57ae76cf",
        "outputId": "ca971737-3c52-4b3b-a4dc-ce59235e2688"
      },
      "outputs": [
        {
          "name": "stdout",
          "output_type": "stream",
          "text": [
            "{1, 2, 3, 4, 6, 7}\n"
          ]
        }
      ],
      "source": [
        "List_for_converting_to_sets = [1,2,3,4,4,4,6,7]\n",
        "List_for_converting_to_sets_1 = [2,3,9,8,7,4]\n",
        "set_1 = set(List_for_converting_to_sets)\n",
        "## it only takes unique values, even if it comes from a list,\n",
        "##it will remove duplicates with in the list)\n",
        "print(set_1)"
      ]
    },
    {
      "cell_type": "code",
      "execution_count": null,
      "id": "613bade4",
      "metadata": {
        "id": "613bade4",
        "outputId": "36a39ae5-592e-457b-b297-b423755042b6"
      },
      "outputs": [
        {
          "data": {
            "text/plain": [
              "{2, 3, 4, 7, 8, 9}"
            ]
          },
          "execution_count": 41,
          "metadata": {},
          "output_type": "execute_result"
        }
      ],
      "source": [
        "## defining set to a veriable\n",
        "set_2 = set(List_for_converting_to_sets_1)\n",
        "set_2"
      ]
    },
    {
      "cell_type": "code",
      "execution_count": null,
      "id": "6fd895dd",
      "metadata": {
        "scrolled": true,
        "id": "6fd895dd",
        "outputId": "bcdc8935-677a-4040-a81c-dd7f94849de9"
      },
      "outputs": [
        {
          "data": {
            "text/plain": [
              "{1, 2, 3, 4, 6, 7, 8, 9}"
            ]
          },
          "execution_count": 33,
          "metadata": {},
          "output_type": "execute_result"
        }
      ],
      "source": [
        " ##Union, all commons & unique from both sets\n",
        "set_1.union(set_2)"
      ]
    },
    {
      "cell_type": "code",
      "execution_count": null,
      "id": "63ed5e8c",
      "metadata": {
        "id": "63ed5e8c",
        "outputId": "1204f3b4-e820-4446-b869-ef62f3675daf"
      },
      "outputs": [
        {
          "data": {
            "text/plain": [
              "{2, 3, 4, 7}"
            ]
          },
          "execution_count": 38,
          "metadata": {},
          "output_type": "execute_result"
        }
      ],
      "source": [
        "##Intersection, all commons from left or first set only.\n",
        "set_1.intersection(set_2)"
      ]
    },
    {
      "cell_type": "code",
      "execution_count": null,
      "id": "24b3cc81",
      "metadata": {
        "id": "24b3cc81",
        "outputId": "785b7a55-f80e-46c2-92c8-62d0bd0d5929"
      },
      "outputs": [
        {
          "data": {
            "text/plain": [
              "{1, 6}"
            ]
          },
          "execution_count": 45,
          "metadata": {},
          "output_type": "execute_result"
        }
      ],
      "source": [
        "## All un-matched from left table only.\n",
        "set_1.difference(set_2) "
      ]
    },
    {
      "cell_type": "markdown",
      "id": "9f63f5a3",
      "metadata": {
        "id": "9f63f5a3"
      },
      "source": [
        "# IF"
      ]
    },
    {
      "cell_type": "code",
      "execution_count": null,
      "id": "ebb4149e",
      "metadata": {
        "scrolled": true,
        "id": "ebb4149e"
      },
      "outputs": [],
      "source": [
        "## if else same like excel, just follow alliengment \n",
        "## input is just a textbox for user\n",
        "## int for defining age as interger so that can be use in if for this particular calculation.\n",
        "age = int(input(\"Please enter your age downer below: \"))\n",
        "if age>=18:\n",
        "    print(\"Eligible to vote\")\n",
        "else:\n",
        "    print(\"Not-Eligible\")"
      ]
    },
    {
      "cell_type": "code",
      "execution_count": null,
      "id": "dd2db09d",
      "metadata": {
        "id": "dd2db09d"
      },
      "outputs": [],
      "source": [
        "age_int = int(input(\"Please enter your age downer below: \"))\n",
        "\n",
        "if age_int>0 and age_int <=12:\n",
        "    print(\"you are a kid\")\n",
        "elif age_int>12 and age_int <=19:\n",
        "    print(\"teenager\")\n",
        "elif age_int> 19 and age_int <=50:\n",
        "    print(\"middle aged\")   \n",
        "elif age_int> 50 and age_int <=150:\n",
        "    print(\"elderly person\")  \n",
        "else:\n",
        "    print(\"invalid\")"
      ]
    },
    {
      "cell_type": "code",
      "execution_count": 3,
      "id": "45dcbff8",
      "metadata": {
        "colab": {
          "base_uri": "https://localhost:8080/"
        },
        "id": "45dcbff8",
        "outputId": "477878f0-8eb4-47d3-d736-7f703eef785d"
      },
      "outputs": [
        {
          "output_type": "stream",
          "name": "stdout",
          "text": [
            "Enter age41\n",
            "elder\n"
          ]
        }
      ],
      "source": [
        "### Technical issue, working in colab. #currect code with if and elif statements.\n",
        "## similar concept with excel.\n",
        "##  here statemet is to make a cataogory of range of ages.\n",
        "## \":\" after is the action, and before it is the conditions.\n",
        "\n",
        "age_input_by_user = input(\"Enter age\")\n",
        "\n",
        "age_input_by_user_as_int = int(age_input_by_user)\n",
        "\n",
        "if age_input_by_user_as_int >= 0 and age_input_by_user_as_int <=12:\n",
        "    print(\"kid\")\n",
        "    \n",
        "elif age_input_by_user_as_int > 12 and age_input_by_user_as_int <=19:\n",
        "    print(\"teenager\")\n",
        "elif age_input_by_user_as_int > 19 and age_input_by_user_as_int <=50:\n",
        "    print(\"elder\")\n",
        "else:\n",
        "    print(\"invalid age\")\n",
        "    "
      ]
    },
    {
      "cell_type": "code",
      "execution_count": null,
      "id": "691e5ec3",
      "metadata": {
        "id": "691e5ec3",
        "outputId": "adfee6aa-c6e1-4044-9961-4c9f3f7a2859"
      },
      "outputs": [
        {
          "data": {
            "text/plain": [
              "array([[21, 85, 92,  1, 46],\n",
              "       [13, 19, 77, 46, 72],\n",
              "       [ 9,  7, 75, 22, 47],\n",
              "       [62, 34, 51, 32, 92]])"
            ]
          },
          "execution_count": 33,
          "metadata": {},
          "output_type": "execute_result"
        }
      ],
      "source": [
        "## Making a array of random numbers.\n",
        "import pandas as pd\n",
        "import numpy as np \n",
        "rand_nums = np.random.randint(1,100, size=(4,5)) \n",
        "rand_nums\n",
        "##type(rand_nums)"
      ]
    },
    {
      "cell_type": "code",
      "execution_count": null,
      "id": "30372999",
      "metadata": {
        "id": "30372999",
        "outputId": "6378ef42-cbe6-4a31-8d63-6b76f9f53016"
      },
      "outputs": [
        {
          "data": {
            "text/plain": [
              "{'name': ['souvik', 'abudabi', 'laden', 'che gouvera'],\n",
              " 'start_time': [1200, 1400, 1600],\n",
              " 'end_time': [2300, 2100, 2300]}"
            ]
          },
          "execution_count": 31,
          "metadata": {},
          "output_type": "execute_result"
        }
      ],
      "source": [
        "## making Dict file\n",
        "dict_a = {\"name\":[\"souvik\",\"abudabi\",\"laden\",\"che gouvera\"],\n",
        "         \"start_time\":[1200,1400,1600],\n",
        "          \"end_time\":[2300,2100,2300]}\n",
        "dict_a"
      ]
    },
    {
      "cell_type": "code",
      "execution_count": 1,
      "id": "9c394046",
      "metadata": {
        "colab": {
          "base_uri": "https://localhost:8080/"
        },
        "id": "9c394046",
        "outputId": "408e450f-7f62-49bd-a3b9-dca092c5d85f"
      },
      "outputs": [
        {
          "output_type": "execute_result",
          "data": {
            "text/plain": [
              "set"
            ]
          },
          "metadata": {},
          "execution_count": 1
        }
      ],
      "source": [
        "## making a set \n",
        "set_1 = {\"souvik\",\"sardar\"}\n",
        "type(set_1)"
      ]
    }
  ],
  "metadata": {
    "kernelspec": {
      "display_name": "Python 3 (ipykernel)",
      "language": "python",
      "name": "python3"
    },
    "language_info": {
      "codemirror_mode": {
        "name": "ipython",
        "version": 3
      },
      "file_extension": ".py",
      "mimetype": "text/x-python",
      "name": "python",
      "nbconvert_exporter": "python",
      "pygments_lexer": "ipython3",
      "version": "3.9.12"
    },
    "colab": {
      "provenance": [],
      "include_colab_link": true
    }
  },
  "nbformat": 4,
  "nbformat_minor": 5
}